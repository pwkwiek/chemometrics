{
  "nbformat": 4,
  "nbformat_minor": 0,
  "metadata": {
    "colab": {
      "provenance": []
    },
    "kernelspec": {
      "name": "python3",
      "display_name": "Python 3"
    },
    "language_info": {
      "name": "python"
    }
  },
  "cells": [
    {
      "cell_type": "markdown",
      "source": [
        "# **PCA** (Principal Components Analysis)"
      ],
      "metadata": {
        "id": "qgQUku3nuiln"
      }
    },
    {
      "cell_type": "markdown",
      "source": [
        "## moduły"
      ],
      "metadata": {
        "id": "mxH2ebXBuwcI"
      }
    },
    {
      "cell_type": "markdown",
      "source": [
        "* **sklearn.preprocessing** – standaryzacja danych (funkcja:\n",
        "StandardScaler)\n",
        "* **sklearn.decomposition** – analiza głównych składowych (funkcja: PCA)\n",
        "* **seaborn** – wizualizacja wykresów"
      ],
      "metadata": {
        "id": "tNRklFADu5Bk"
      }
    },
    {
      "cell_type": "markdown",
      "source": [
        "## Podstawowe cele PCA"
      ],
      "metadata": {
        "id": "G1dzjbZIvXTK"
      }
    },
    {
      "cell_type": "markdown",
      "source": [
        "* redukcja wymiarowości przestrzeni, tzn. przekształcanie k\n",
        "skorelowanych zmiennych pierwotnych w k głównych składowych (PC –\n",
        "principal component), przy czym znaczna część istotnej zmienności\n",
        "jest opisana przez kilka początkowych nowych zmiennych\n",
        "* prezentacja graficzna danych w przestrzeni o zredukowanej\n",
        "wymiarowości\n",
        "* eksploracja zbioru danych, detekcja podzbiorów obiektów podobnych,\n",
        "detekcja punktów odbiegających."
      ],
      "metadata": {
        "id": "hIRjLRryvdKz"
      }
    },
    {
      "cell_type": "markdown",
      "source": [
        "## Problemy z jakimi można się napotkać"
      ],
      "metadata": {
        "id": "pJLAGG1kvvR6"
      }
    },
    {
      "cell_type": "markdown",
      "source": [
        "* wstępne przygotowanie danych (czy konieczne i jaka metoda,\n",
        "przeważnie jest to standaryzacja zmiennych)\n",
        "* wybór liczby istotnych głównych składowych\n",
        "* interpretacja nowych zmiennych tj. głównych składowych (jak są\n",
        "powiązane ze zmiennymi pierwotnymi)\n",
        "* analiza rzutu obiektów na płaszczyzny głównych składowych."
      ],
      "metadata": {
        "id": "nSz0T-DPvzNk"
      }
    },
    {
      "cell_type": "markdown",
      "source": [
        "**UWAGA!!!**\n",
        "\n",
        "Proszę zwrócić uwagę, aby wykonywać obliczenia tylko dla zmiennych\n",
        "objaśniających (a nie np. zmiennych objaśniających i numerycznej etykiety obiektu (!))"
      ],
      "metadata": {
        "id": "KIES20HpwDGi"
      }
    },
    {
      "cell_type": "markdown",
      "source": [
        "## Przykład 1"
      ],
      "metadata": {
        "id": "MdsW4dcrweRJ"
      }
    },
    {
      "cell_type": "markdown",
      "source": [
        "Eksploracja obiektów w zbiorze kosaćców\n",
        "\n",
        "Ten przykład prezentuje działanie w najprostszy możliwy sposób.\n",
        "To znaczy są tu pokazane tylko absolutnie niezbędne etapy obliczeń."
      ],
      "metadata": {
        "id": "131R8IkWXWyy"
      }
    },
    {
      "cell_type": "code",
      "execution_count": null,
      "metadata": {
        "id": "1eocpkrxuVG-"
      },
      "outputs": [],
      "source": [
        "import numpy as np\n",
        "import pandas as pd\n",
        "import matplotlib.pyplot as plt\n",
        "from sklearn.preprocessing import StandardScaler\n",
        "from sklearn.decomposition import PCA\n",
        "import seaborn as sns"
      ]
    },
    {
      "cell_type": "code",
      "source": [
        "iris = sns.load_dataset(\"iris\")\n",
        "print('Dane wejściowe: \\n', iris.head())"
      ],
      "metadata": {
        "id": "-EpsB6J1wmNE"
      },
      "execution_count": null,
      "outputs": []
    },
    {
      "cell_type": "code",
      "source": [
        "X = iris.drop('species', axis=1) # Usunięcie kolumny 'species' - nie jest zmienną objaśniającą\n",
        "y = iris['species']\n",
        "print('\\nZmienne objaśniające: \\n', X.head())"
      ],
      "metadata": {
        "id": "GAZzxs5awsHI"
      },
      "execution_count": null,
      "outputs": []
    },
    {
      "cell_type": "code",
      "source": [
        "sc = StandardScaler()\n",
        "sc.fit(X)\n",
        "X = sc.transform(X) # Autoskalowanie"
      ],
      "metadata": {
        "id": "EtFp31T4w3A7"
      },
      "execution_count": null,
      "outputs": []
    },
    {
      "cell_type": "code",
      "source": [
        "# PCA i transformacja X do głównych składowych (PC)\n",
        "pca = PCA()\n",
        "PC = pca.fit_transform(X)"
      ],
      "metadata": {
        "id": "ufoY6f5Pw6t4"
      },
      "execution_count": null,
      "outputs": []
    },
    {
      "cell_type": "code",
      "source": [
        "# Analiza zmienności opisywanej przez poszczególne PC\n",
        "print('\\nOpisywana zmienność: ', pca.explained_variance_ratio_)\n",
        "sns.barplot(x=np.arange(1,5), y=pca.explained_variance_ratio_,\n",
        "color='blue')\n",
        "plt.show()"
      ],
      "metadata": {
        "id": "tDiy3LB9w-w-"
      },
      "execution_count": null,
      "outputs": []
    },
    {
      "cell_type": "markdown",
      "source": [
        "* Jaki procent zmienności opisują poszczególne\n",
        "główne składowe?\n",
        "* Jaka jest liczba istotnych głównych składowych? Jakie kryterium\n",
        "zastosowano do dokonania wyboru?"
      ],
      "metadata": {
        "id": "3QdR0uNszafo"
      }
    },
    {
      "cell_type": "code",
      "source": [
        "# Rzut obiektów na płaszczyznę PC1/PC2\n",
        "print('\\nWyniki - rzut obiektów na płaszczyznę głównej składowej 1 oraz 2')\n",
        "sns.scatterplot(x=PC[:,0], y=PC[:,1], sizes=50, palette='viridis',\n",
        "hue=y)\n",
        "plt.xlabel('PC1')\n",
        "plt.ylabel('PC2')\n",
        "plt.show()"
      ],
      "metadata": {
        "id": "7drpYU3Uw_xj"
      },
      "execution_count": null,
      "outputs": []
    },
    {
      "cell_type": "markdown",
      "source": [
        "Powyższy obraz punktów w przestrzeni głównych składowych jest kluczowym wynikiem PCA. Podczas jego tworzenia uwzględniono etykiety\n",
        "obiektów.\n",
        "\n",
        "Czy pozwala on nam na odróżnienie trzech klas obiektów?\n",
        "\n",
        "Czy występują jakieś punkty, które nie wpasowują się w podział?\n",
        "\n",
        "Wykonaj podobne wykresy przy rzucie na płaszczyzny: PC1/PC3 i PC2/PC3.\n",
        "\n",
        "Czy stworzone wykresy pomagają na odróżnienie gatunku kosaćca w oparciu o pomiar geometryczny płatków?"
      ],
      "metadata": {
        "id": "KiO13EUoxbaS"
      }
    },
    {
      "cell_type": "markdown",
      "source": [
        "Usuń operację autoskalowania i powtórz obliczenia.\n",
        "\n",
        "Czy operacja autoskalowania była tutaj pomocna?"
      ],
      "metadata": {
        "id": "TNZMjgC5YRHT"
      }
    },
    {
      "cell_type": "markdown",
      "source": [
        "## Przykład 2"
      ],
      "metadata": {
        "id": "o21wEbA9zwX6"
      }
    },
    {
      "cell_type": "markdown",
      "source": [
        "Eksploracja zbioru opisującego grupę siedmiu pacjentów\n",
        "(dane o charakterze dydaktycznym)\n",
        "\n",
        "Zbadano siedmiu pacjentów, rejestrując dla nich parametry:\n",
        "par1, par2, par3, par4.\n",
        "\n",
        "Dane w pliku: dane.txt\n",
        "\n",
        "W tym przykładzie bardziej szczegółowo przeanalizujemy\n",
        "możliwości PCA i w szczególności zwrócimy uwagę także na **wagi\n",
        "składowych**."
      ],
      "metadata": {
        "id": "rU-SyQP1XK6T"
      }
    },
    {
      "cell_type": "code",
      "source": [
        "import numpy as np\n",
        "import pandas as pd\n",
        "import seaborn as sns\n",
        "import matplotlib.pyplot as plt\n",
        "from sklearn.preprocessing import StandardScaler\n",
        "from sklearn.decomposition import PCA"
      ],
      "metadata": {
        "id": "7oTSQTJpyi1x"
      },
      "execution_count": null,
      "outputs": []
    },
    {
      "cell_type": "code",
      "source": [
        "dataset = pd.read_csv(\"dane.txt\", delim_whitespace=True, header=0)\n",
        "print(dataset.head())"
      ],
      "metadata": {
        "id": "DJ3GG9a95W62"
      },
      "execution_count": null,
      "outputs": []
    },
    {
      "cell_type": "code",
      "source": [
        "X = dataset.values[:,0:4] # Zmienne objaśniające\n",
        "y = dataset['grupa']"
      ],
      "metadata": {
        "id": "fsWr6Qfq5atE"
      },
      "execution_count": null,
      "outputs": []
    },
    {
      "cell_type": "code",
      "source": [
        "scaler = StandardScaler()\n",
        "scaler.fit(X)\n",
        "X = scaler.transform(X) # Autoskalowanie"
      ],
      "metadata": {
        "id": "CiAPNAvA5bK2"
      },
      "execution_count": null,
      "outputs": []
    },
    {
      "cell_type": "code",
      "source": [
        "pca = PCA(n_components=4)\n",
        "modelPC = pca.fit(X)"
      ],
      "metadata": {
        "id": "PfXWCQYt5dLH"
      },
      "execution_count": null,
      "outputs": []
    },
    {
      "cell_type": "code",
      "source": [
        "# Procent opisywanej zmienności w formie num. i wykresu słupkowego\n",
        "print('\\nExplained variance / %: ')\n",
        "for i in range(4):\n",
        "  print('% 4.2f' % (100*pca.explained_variance_ratio_)[i])\n",
        "\n",
        "splot = sns.barplot(x=np.arange(1,5), y=pca.explained_variance_ratio_, color='grey')\n",
        "plt.xlabel('Component number')\n",
        "plt.ylabel('Explained variance')\n",
        "plt.show()"
      ],
      "metadata": {
        "id": "Auh7DAIz5fPp"
      },
      "execution_count": null,
      "outputs": []
    },
    {
      "cell_type": "markdown",
      "source": [
        "Jaki procent zmienności opisują poszczególne główne składowe?\n",
        "Jaka jest liczba istotnych głównych składowych? Jakie kryterium zastosowano do dokonania wyboru?"
      ],
      "metadata": {
        "id": "hfFW4f7K7OtC"
      }
    },
    {
      "cell_type": "code",
      "source": [
        "# Skumulowana zmienność\n",
        "sns.barplot(x=np.arange(1,5), y=np.cumsum(pca.explained_variance_ratio_), color='grey')\n",
        "plt.xlabel('Number of components')\n",
        "plt.ylabel('Cumulative explained variance')\n",
        "plt.show()"
      ],
      "metadata": {
        "id": "XYCozuvx5kIB"
      },
      "execution_count": null,
      "outputs": []
    },
    {
      "cell_type": "code",
      "source": [
        "# Wagi składowych\n",
        "print('\\nComponent loadings :')\n",
        "# Uwaga! Wagi dla poszczególnych składowych w wierszach\n",
        "print(' PC1 PC2')\n",
        "for i in range(4):\n",
        "  print(dataset.columns[i], '% 4.2f' % (modelPC.components_)[0,i], '% 4.2f' % (modelPC.components_)[1,i])\n",
        "sns.scatterplot(x=modelPC.components_[0,:], y=modelPC.components_[1,:], hue=dataset.columns[0:4], palette='bright',s=80)"
      ],
      "metadata": {
        "id": "1_K2Q7NF5wZ5"
      },
      "execution_count": null,
      "outputs": []
    },
    {
      "cell_type": "markdown",
      "source": [
        "Analizując wagi składowych (model.components_) można zapisać, iż:\n",
        "\n",
        "PC1 = 0.51\\*par1 + 0.49\\*par2 – 0.49\\*par3 – 0.52\\*par4\n",
        "\n",
        "Wynika to z tego. iż każda główna składowa jest kombinacją liniową zmiennych\n",
        "pierwotnych. Szczegóły w wykładzie.\n",
        "\n",
        "    PCi = ai*Xi + bi*Xi ...\n",
        "\n",
        "Posiadając te informacje, jak będzie wyglądało równanie dla PC2?"
      ],
      "metadata": {
        "id": "aTBsGXvQ6IER"
      }
    },
    {
      "cell_type": "markdown",
      "source": [
        "Wagi składowych często prezentujemy graficznie."
      ],
      "metadata": {
        "id": "UAeCms0kWls1"
      }
    },
    {
      "cell_type": "code",
      "source": [
        "sns.scatterplot(x=modelPC.components_[0,:], y=modelPC.components_[1,:], hue=dataset.columns[0:4], palette='bright',s=80)\n",
        "\n",
        "for i in range(0,4): # Wektory wskazujące wagi składowych\n",
        "  ax=sns.lineplot(x=[0,modelPC.components_[0,i]], y=[0,modelPC.components_[1,i]], color='grey', linewidth=2.7)\n",
        "  ax.arrow(0,0, modelPC.components_[0,i], modelPC.components_[1,i], lw=1, color='grey', head_length=.05, head_width=.04, length_includes_head=True)\n",
        "plt.xlabel('Loadings PC1')\n",
        "plt.ylabel('Loadings PC2')\n",
        "plt.grid()\n",
        "plt.show()"
      ],
      "metadata": {
        "id": "BUtOwfCHWOcN"
      },
      "execution_count": null,
      "outputs": []
    },
    {
      "cell_type": "markdown",
      "source": [
        "Kolorowe punkty to wagi składowych. Gdy zrzutujemy te punkty na\n",
        "PC1, a potem PC2, możemy ocenić, jaki wpływ mają pierwotne\n",
        "zmienne na poszczególne główne składowe.\n",
        "\n",
        "Dodatkowo wnioskujemy, że par1 oraz par2 są skorelowane, gdyż są równoległe (w analizowanym zbiorze obiektów). Podobnie par3 oraz par4.\n",
        "\n",
        "Z kolei pomiędzy par1 oraz par3 – brak jest korelacji."
      ],
      "metadata": {
        "id": "fHJZgWXaWNLS"
      }
    },
    {
      "cell_type": "code",
      "source": [
        "# Rzut obiektów na płaszczyznę PC1/PC2\n",
        "print('\\n Results :')\n",
        "PC = modelPC.transform(X)\n",
        "sns.scatterplot(x=PC[:,0], y=PC[:,1], palette='dark', hue=y,\n",
        "legend='full', s=80)\n",
        "plt.xlabel('PC1 / '+'% 4.2f' %\n",
        "(100*pca.explained_variance_ratio_)[0] + ' %')\n",
        "plt.ylabel('PC2 / '+'% 4.2f' %\n",
        "(100*pca.explained_variance_ratio_)[1] + ' %')\n",
        "plt.legend()\n",
        "plt.show()"
      ],
      "metadata": {
        "id": "_ct9AZXN6A_T"
      },
      "execution_count": null,
      "outputs": []
    },
    {
      "cell_type": "markdown",
      "source": [
        "Jak wyglądają wykresy PC1/PC3 i PC2/PC3?\n",
        "\n",
        "Co w przypadku braku zastosowania autoskalowania?"
      ],
      "metadata": {
        "id": "GYbUy0-mVHUw"
      }
    },
    {
      "cell_type": "markdown",
      "source": [
        "## Przykład 3\n",
        "\n"
      ],
      "metadata": {
        "id": "_5agrbEl8_04"
      }
    },
    {
      "cell_type": "markdown",
      "source": [
        "Analiza zmian nowotworowych – rak piersi (opis zbioru\n",
        "danych dostępny z poziomu skryptu)\n",
        "\n",
        "Co nowego w tym przykładzie:\n",
        "- zbiór danych typu bunch\n",
        "- duża liczba zmiennych objaśniających (30), czyli PCA wykonamy\n",
        "podając jako parametr (n_components) wartość mniejszą od 30, gdyż\n",
        "tyle głównych składowych nas na pewno nie będzie interesować\n",
        "- analiza wag składowych za pomocą mapy cieplnej"
      ],
      "metadata": {
        "id": "NxSgwBaqZmQT"
      }
    },
    {
      "cell_type": "code",
      "source": [
        "import pandas as pd\n",
        "import numpy as np\n",
        "import matplotlib.pyplot as plt\n",
        "import seaborn as sns\n",
        "from sklearn.datasets import load_breast_cancer\n",
        "from sklearn.preprocessing import StandardScaler\n",
        "from sklearn.decomposition import PCA"
      ],
      "metadata": {
        "id": "kHObwCjB9Ehl"
      },
      "execution_count": null,
      "outputs": []
    },
    {
      "cell_type": "code",
      "source": [
        "# Dane do obliczeń\n",
        "cancer = load_breast_cancer()\n",
        "\n",
        "# Tworzenie ramki danych\n",
        "df = pd.DataFrame(data=cancer.data, columns=cancer.feature_names)\n",
        "# Podgląd danych\n",
        "print(df.head())"
      ],
      "metadata": {
        "id": "3UTl1x7RPILH"
      },
      "execution_count": null,
      "outputs": []
    },
    {
      "cell_type": "code",
      "source": [
        "# Autoskalowanie\n",
        "scaler = StandardScaler()\n",
        "scaler.fit(df)\n",
        "scaled_data = scaler.transform(df)\n",
        "\n",
        "# PCA\n",
        "pca = PCA(n_components=2)\n",
        "x_pca = pca.fit_transform(scaled_data)\n",
        "\n",
        "print(scaled_data.shape)\n",
        "print(x_pca.shape)"
      ],
      "metadata": {
        "id": "796epaqKD-zJ"
      },
      "execution_count": null,
      "outputs": []
    },
    {
      "cell_type": "code",
      "source": [
        "# Analiza zmienności opisywanej przez poszczególne PC\n",
        "print('\\nOpisywana zmienność: ', pca.explained_variance_ratio_)\n",
        "sns.barplot(x=np.arange(1,3), y=pca.explained_variance_ratio_,\n",
        "color='blue')\n",
        "plt.show()"
      ],
      "metadata": {
        "id": "-ELGNAchQhym"
      },
      "execution_count": null,
      "outputs": []
    },
    {
      "cell_type": "markdown",
      "source": [
        "Jaki procent zmienności opisują poszczególne główne składowe?"
      ],
      "metadata": {
        "id": "XZ79paekYyxu"
      }
    },
    {
      "cell_type": "code",
      "source": [
        "# Wyniki - rzut na PC1/PC2\n",
        "plt.figure(figsize =(8, 6))\n",
        "sns.scatterplot(x=x_pca[:,0], y=x_pca[:,1],hue=cancer['target'],palette=\"pastel\")\n",
        "plt.xlabel('PC1')\n",
        "plt.ylabel('PC2')\n",
        "plt.legend()\n",
        "plt.show()"
      ],
      "metadata": {
        "id": "_bQq6-aTNcpB"
      },
      "execution_count": null,
      "outputs": []
    },
    {
      "cell_type": "code",
      "source": [
        "# Wagi składowych (loadings == components_)\n",
        "print('Loadings: ')\n",
        "print(pca.components_[0:2,:])"
      ],
      "metadata": {
        "id": "HKr2vrX4OeaY"
      },
      "execution_count": null,
      "outputs": []
    },
    {
      "cell_type": "code",
      "source": [
        "df_pc = pd.DataFrame(pca.components_, columns = cancer['feature_names'])\n",
        "df_pc"
      ],
      "metadata": {
        "id": "YaMxyjhW_Plq"
      },
      "execution_count": null,
      "outputs": []
    },
    {
      "cell_type": "code",
      "source": [
        "plt.figure(figsize=(14, 6))\n",
        "sns.heatmap(df_pc, cmap='viridis')\n",
        "plt.title('Principal Components correlation with the features')\n",
        "plt.xlabel('Features')\n",
        "plt.ylabel('Principal Components')"
      ],
      "metadata": {
        "id": "K7Jb4qBLAJTk"
      },
      "execution_count": null,
      "outputs": []
    },
    {
      "cell_type": "markdown",
      "source": [
        "Powtórz ćwiczenie, użyj w obliczeniach mniejszej liczby zmiennych\n",
        "objaśniających (np. tylko 10 początkowych)."
      ],
      "metadata": {
        "id": "lORR26tqY-ey"
      }
    },
    {
      "cell_type": "markdown",
      "source": [
        "## **Zadanie**"
      ],
      "metadata": {
        "id": "pygUFl_wSJNG"
      }
    },
    {
      "cell_type": "markdown",
      "source": [
        "Przeprowadzić analizę składowych głównych dla zbioru pingwinów:\n",
        "\n",
        "\n",
        "> !wget -q https://storage.googleapis.com/download.tensorflow.org/data/palmer_penguins/penguins.csv -O /tmp/penguins.csv\n",
        "\n",
        "> df = pd.read_csv(\"/tmp/penguins.csv\")\n",
        "\n",
        "> df.head()\n",
        "\n",
        "\n",
        "*   Określ, które zmienne są zmiennymi objaśniającymi i zostaną użyte w obliczeniach. Które zmienne zawierają etykiety obiektów? Czy któreś zmienne pominięte zostaną w obliczeniach?\n",
        "*   Wykonać przynajmniej wykresy:\n",
        "  * wariancja opisywana przez poszczególne główne składowe\n",
        "  * rzut obiektów PC1/PC2\n",
        "* Ile głównych składowych uznano za istotne? Według jakiego kryterium dokonano wyboru?\n",
        "\n",
        "\n",
        "\n",
        "\n",
        "\n",
        "\n",
        "\n",
        "\n",
        "\n",
        "\n",
        "\n",
        "\n"
      ],
      "metadata": {
        "id": "n1qLucs7SN6w"
      }
    }
  ]
}