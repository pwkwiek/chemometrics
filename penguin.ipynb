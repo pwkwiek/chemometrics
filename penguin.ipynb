{
  "nbformat": 4,
  "nbformat_minor": 0,
  "metadata": {
    "colab": {
      "provenance": []
    },
    "kernelspec": {
      "name": "python3",
      "display_name": "Python 3"
    },
    "language_info": {
      "name": "python"
    }
  },
  "cells": [
    {
      "cell_type": "code",
      "source": [
        "import pandas as pd\n",
        "import numpy as np\n",
        "import matplotlib.pyplot as plt\n",
        "from sklearn import tree\n",
        "from sklearn.model_selection import cross_val_score\n",
        "from sklearn.preprocessing import LabelEncoder\n",
        "from ChernoffFace import *\n",
        "import numpy\n",
        "import matplotlib.cm\n",
        "import seaborn as sns\n",
        "from matplotlib.lines import Line2D\n",
        "from sklearn.preprocessing import StandardScaler\n",
        "from sklearn.decomposition import PCA\n",
        "from sklearn.ensemble import RandomForestClassifier\n",
        "from sklearn.model_selection import train_test_split\n",
        "from sklearn.metrics import classification_report, confusion_matrix, accuracy_score"
      ],
      "metadata": {
        "id": "af4xmY9s0lUB"
      },
      "execution_count": null,
      "outputs": []
    },
    {
      "cell_type": "code",
      "source": [
        "!python -m pip install ChernoffFace"
      ],
      "metadata": {
        "id": "EE7jDR4bOsaT"
      },
      "execution_count": null,
      "outputs": []
    },
    {
      "cell_type": "code",
      "source": [
        "!wget -q https://storage.googleapis.com/download.tensorflow.org/data/palmer_penguins/penguins.csv -O /tmp/penguins.csv\n",
        "df = pd.read_csv(\"/tmp/penguins.csv\")\n",
        "df.head()"
      ],
      "metadata": {
        "id": "NCnDZ98M00Jm"
      },
      "execution_count": null,
      "outputs": []
    },
    {
      "cell_type": "code",
      "source": [
        "df = df.dropna() #usuwanie wartości NaN\n",
        "df.head()"
      ],
      "metadata": {
        "id": "Sc9csMwE04L-"
      },
      "execution_count": null,
      "outputs": []
    },
    {
      "cell_type": "code",
      "source": [
        "label_encoder = LabelEncoder()\n",
        "df['island'] = label_encoder.fit_transform(df['island'])\n",
        "df.head()"
      ],
      "metadata": {
        "id": "y8kVavu206N-"
      },
      "execution_count": null,
      "outputs": []
    },
    {
      "cell_type": "code",
      "source": [
        "X = df.values[:, 1:6]\n",
        "y = df.values[:, 0]\n",
        "label_encoder = LabelEncoder()\n",
        "y = label_encoder.fit_transform(y)"
      ],
      "metadata": {
        "id": "VRqZRsal09oy"
      },
      "execution_count": null,
      "outputs": []
    },
    {
      "cell_type": "code",
      "source": [
        "def rescale(x):\n",
        "    return (x - np.min(x)) / np.ptp(x)\n",
        "\n",
        "penguins_radar = (\n",
        "    df.groupby('species').agg(\n",
        "        avg_bill_length = (\"bill_length_mm\", np.mean),\n",
        "        avg_bill_depth = (\"bill_depth_mm\", np.mean),\n",
        "        avg_flipper_length = (\"flipper_length_mm\", np.mean),\n",
        "        avg_body_mass = (\"body_mass_g\", np.mean)\n",
        "    )\n",
        "    .apply(lambda x: rescale(x))\n",
        "    .reset_index()\n",
        ")\n",
        "\n",
        "BG_WHITE = \"#FFFFFF\"\n",
        "BLUE = \"#2a475e\"\n",
        "GREY70 = \"#b3b3b3\"\n",
        "GREY_LIGHT = \"#f2efe8\"\n",
        "COLORS = [\"#FF5A5F\", \"#FFB400\", \"#007A87\"]\n",
        "\n",
        "# The three species of penguins\n",
        "SPECIES = penguins_radar[\"species\"].values.tolist()\n",
        "\n",
        "# The four variables in the plot\n",
        "VARIABLES = penguins_radar.columns.tolist()[1:]\n",
        "VARIABLES_N = len(VARIABLES)\n",
        "\n",
        "# The angles at which the values of the numeric variables are placed\n",
        "ANGLES = [n / VARIABLES_N * 2 * np.pi for n in range(VARIABLES_N)]\n",
        "ANGLES += ANGLES[:1]\n",
        "\n",
        "# Padding used to customize the location of the tick labels\n",
        "X_VERTICAL_TICK_PADDING = 5\n",
        "X_HORIZONTAL_TICK_PADDING = 50\n",
        "\n",
        "# Angle values going from 0 to 2*pi\n",
        "HANGLES = np.linspace(0, 2 * np.pi)\n",
        "\n",
        "# Used for the equivalent of horizontal lines in cartesian coordinates plots\n",
        "# The last one is also used to add a fill which acts a background color.\n",
        "H0 = np.zeros(len(HANGLES))\n",
        "H1 = np.ones(len(HANGLES)) * 0.5\n",
        "H2 = np.ones(len(HANGLES))\n",
        "\n",
        "# Initialize layout ----------------------------------------------\n",
        "fig = plt.figure(figsize=(14, 10))\n",
        "ax = fig.add_subplot(111, polar=True)\n",
        "\n",
        "fig.patch.set_facecolor(BG_WHITE)\n",
        "ax.set_facecolor(BG_WHITE)\n",
        "\n",
        "# Rotate the \"\" 0 degrees on top.\n",
        "# There it where the first variable, avg_bill_length, will go.\n",
        "ax.set_theta_offset(np.pi / 2)\n",
        "ax.set_theta_direction(-1)\n",
        "\n",
        "# Setting lower limit to negative value reduces overlap\n",
        "# for values that are 0 (the minimums)\n",
        "ax.set_ylim(-0.1, 1.05)\n",
        "\n",
        "# Plot lines and dots --------------------------------------------\n",
        "for idx, species in enumerate(SPECIES):\n",
        "    values = penguins_radar.iloc[idx].drop(\"species\").values.tolist()\n",
        "    values += values[:1]\n",
        "    ax.plot(ANGLES, values, c=COLORS[idx], linewidth=4, label=species)\n",
        "    ax.scatter(ANGLES, values, s=160, c=COLORS[idx], zorder=10)\n",
        "\n",
        "# Set values for the angular axis (x)\n",
        "ax.set_xticks(ANGLES[:-1])\n",
        "ax.set_xticklabels(VARIABLES, size=14)\n",
        "\n",
        "# Remove lines for radial axis (y)\n",
        "ax.set_yticks([])\n",
        "ax.yaxis.grid(False)\n",
        "ax.xaxis.grid(False)\n",
        "\n",
        "# Remove spines\n",
        "ax.spines[\"start\"].set_color(\"none\")\n",
        "ax.spines[\"polar\"].set_color(\"none\")\n",
        "\n",
        "# Add custom lines for radial axis (y) at 0, 0.5 and 1.\n",
        "ax.plot(HANGLES, H0, ls=(0, (6, 6)), c=GREY70)\n",
        "ax.plot(HANGLES, H1, ls=(0, (6, 6)), c=COLORS[2])\n",
        "ax.plot(HANGLES, H2, ls=(0, (6, 6)), c=GREY70)\n",
        "\n",
        "# Now fill the area of the circle with radius 1.\n",
        "# This create the effect of gray background.\n",
        "ax.fill(HANGLES, H2, GREY_LIGHT)\n",
        "\n",
        "# Custom guides for angular axis (x).\n",
        "# These four lines do not cross the y = 0 value, so they go from\n",
        "# the innermost circle, to the outermost circle with radius 1.\n",
        "ax.plot([0, 0], [0, 1], lw=2, c=GREY70)\n",
        "ax.plot([np.pi, np.pi], [0, 1], lw=2, c=GREY70)\n",
        "ax.plot([np.pi / 2, np.pi / 2], [0, 1], lw=2, c=GREY70)\n",
        "ax.plot([-np.pi / 2, -np.pi / 2], [0, 1], lw=2, c=GREY70)\n",
        "\n",
        "# Add levels -----------------------------------------------------\n",
        "# These labels indicate the values of the radial axis\n",
        "PAD = 0.05\n",
        "ax.text(-0.4, 0 + PAD, \"0%\", size=16, fontname=\"Roboto\")\n",
        "ax.text(-0.4, 0.5 + PAD, \"50%\", size=16, fontname=\"Roboto\")\n",
        "ax.text(-0.4, 1 + PAD, \"100%\", size=16, fontname=\"Roboto\")\n",
        "\n",
        "# Create and add legends -----------------------------------------\n",
        "# Legends are made from scratch.\n",
        "\n",
        "# Iterate through species names and colors.\n",
        "# These handles contain both markers and lines.\n",
        "handles = [\n",
        "    Line2D(\n",
        "        [], [],\n",
        "        c=color,\n",
        "        lw=3,\n",
        "        marker=\"o\",\n",
        "        markersize=8,\n",
        "        label=species\n",
        "    )\n",
        "    for species, color in zip(SPECIES, COLORS)\n",
        "]\n",
        "\n",
        "legend = ax.legend(\n",
        "    handles=handles,\n",
        "    loc=(1, 0),       # bottom-right\n",
        "    labelspacing=1.5, # add space between labels\n",
        "    frameon=False     # don't put a frame\n",
        ")\n",
        "\n",
        "# Iterate through text elements and change their properties\n",
        "for text in legend.get_texts():\n",
        "    text.set_fontname(\"Roboto\") # Change default font\n",
        "    text.set_fontsize(16)       # Change default font size\n",
        "\n",
        "# Adjust tick label positions ------------------------------------\n",
        "XTICKS = ax.xaxis.get_major_ticks()\n",
        "for tick in XTICKS[0::2]:\n",
        "    tick.set_pad(X_VERTICAL_TICK_PADDING)\n",
        "\n",
        "for tick in XTICKS[1::2]:\n",
        "    tick.set_pad(X_HORIZONTAL_TICK_PADDING)\n",
        "\n",
        "# Add title ------------------------------------------------------\n",
        "fig.suptitle(\n",
        "    \"Radar Plot of Penguin Species\",\n",
        "    x = 0.1,\n",
        "    y = 1,\n",
        "    ha=\"left\",\n",
        "    fontsize=32,\n",
        "    fontname=\"Lobster Two\",\n",
        "    color=BLUE,\n",
        "    weight=\"bold\",\n",
        ")"
      ],
      "metadata": {
        "id": "GD3al8kMT5n0"
      },
      "execution_count": null,
      "outputs": []
    },
    {
      "cell_type": "code",
      "source": [
        "sns.set_theme(style=\"ticks\")\n",
        "\n",
        "sns.pairplot(df, hue=\"species\")"
      ],
      "metadata": {
        "id": "Re3RVJfWSBPi"
      },
      "execution_count": null,
      "outputs": []
    },
    {
      "cell_type": "code",
      "source": [
        "dfData2 = variables_rescale(X)\n",
        "\n",
        "fig = chernoff_face(data=dfData2,\n",
        "                    n_columns=5,\n",
        "                    long_face=False,\n",
        "                    color_mapper=matplotlib.cm.tab20b,\n",
        "                    figsize=(8, 8), dpi=200)\n",
        "\n",
        "# Display\n",
        "fig.tight_layout()\n",
        "matplotlib.pyplot.show()"
      ],
      "metadata": {
        "id": "QNeoKHGnR8TT"
      },
      "execution_count": null,
      "outputs": []
    },
    {
      "cell_type": "code",
      "source": [
        "from scipy.cluster.hierarchy import linkage, dendrogram\n",
        "\n",
        "linkage_matrix=linkage(X,method='ward')\n",
        "\n",
        "\n",
        "plt.figure(figsize=(15,10))\n",
        "dendrogram(linkage_matrix,labels=df['species'].values, leaf_rotation=90)\n",
        "plt.title(\"Hierarchical clustering Dendogram\")\n",
        "plt.xlabel('Species')\n",
        "plt.ylabel('Distance')\n",
        "plt.show()"
      ],
      "metadata": {
        "id": "ulvdSyQZXRcV"
      },
      "execution_count": null,
      "outputs": []
    },
    {
      "cell_type": "code",
      "source": [
        "scaler = StandardScaler()\n",
        "scaler.fit(X)\n",
        "scaled_data = scaler.transform(X)\n",
        "pca = PCA(n_components=4)\n",
        "x_pca = pca.fit_transform(scaled_data)"
      ],
      "metadata": {
        "id": "o2_ARH1ccDJa"
      },
      "execution_count": null,
      "outputs": []
    },
    {
      "cell_type": "code",
      "source": [
        "print('\\nOpisywana zmienność: ', pca.explained_variance_ratio_)\n",
        "sns.barplot(x=np.arange(1,5), y=pca.explained_variance_ratio_, color='blue')\n",
        "plt.show()"
      ],
      "metadata": {
        "id": "zAGmWJG3cay7"
      },
      "execution_count": null,
      "outputs": []
    },
    {
      "cell_type": "code",
      "source": [
        "plt.figure(figsize =(8, 6))\n",
        "sns.scatterplot(x=x_pca[:,0],\n",
        "y=x_pca[:,1],hue=df['species'],palette=\"pastel\")\n",
        "plt.xlabel('PC1')\n",
        "plt.ylabel('PC2')\n",
        "plt.legend()\n",
        "plt.show()"
      ],
      "metadata": {
        "id": "pP9yZWj6cdDv"
      },
      "execution_count": null,
      "outputs": []
    },
    {
      "cell_type": "code",
      "source": [
        "# Wyniki - rzut na PC2/PC3\n",
        "plt.figure(figsize =(8, 6))\n",
        "sns.scatterplot(x=x_pca[:,1], y=x_pca[:,2], hue=df['species'], palette=\"pastel\")\n",
        "plt.xlabel('PC2')\n",
        "plt.ylabel('PC3')\n",
        "plt.legend()\n",
        "plt.show()"
      ],
      "metadata": {
        "id": "B3J-4htOcfdi"
      },
      "execution_count": null,
      "outputs": []
    },
    {
      "cell_type": "code",
      "source": [
        "# Wyniki - rzut na PC1/PC3\n",
        "plt.figure(figsize =(8, 6))\n",
        "sns.scatterplot(x=x_pca[:,0], y=x_pca[:,2], hue=df['species'], palette=\"pastel\")\n",
        "plt.xlabel('PC1')\n",
        "plt.ylabel('PC3')\n",
        "plt.legend()\n",
        "plt.show()"
      ],
      "metadata": {
        "id": "l12QLpX8ch0_"
      },
      "execution_count": null,
      "outputs": []
    },
    {
      "cell_type": "code",
      "source": [
        "clf = tree.DecisionTreeClassifier()\n",
        "# definicja klasyfikatora\n",
        "scores = cross_val_score(clf, X, y, cv=5)\n",
        "# walidacja krzyżowa\n",
        "print('Accuracy (mean): ', scores.mean())"
      ],
      "metadata": {
        "id": "H8hkch-w0-kE"
      },
      "execution_count": null,
      "outputs": []
    },
    {
      "cell_type": "code",
      "source": [
        "clf = clf.fit(X, y) # uczenie klasyfikatora\n",
        "plt.figure(figsize=(16,7)) #odpowiednio dopasować: figsize, fontsize\n",
        "tree.plot_tree(clf, fontsize=7, filled=True,\n",
        "feature_names=df.columns[1:6], class_names=df[\"species\"].unique())\n",
        "plt.savefig('DTiris.png') #zapis do pliku\n",
        "plt.show()\n",
        "plt.show()"
      ],
      "metadata": {
        "id": "FlirYANw1C-C"
      },
      "execution_count": null,
      "outputs": []
    },
    {
      "cell_type": "code",
      "source": [
        "# Badanie istotności cech\n",
        "print('\\nFeature importances')\n",
        "importances = pd.Series(clf.feature_importances_, index=df.columns[1:6])\n",
        "print(importances)\n",
        "importances.nlargest(5).plot(kind='barh')\n",
        "plt.xlabel('Relative importance')\n",
        "plt.show()"
      ],
      "metadata": {
        "id": "sXo1uQmdL05N"
      },
      "execution_count": null,
      "outputs": []
    },
    {
      "cell_type": "code",
      "source": [
        "X_train, X_test, y_train, y_test = train_test_split(X, y, test_size=0.3, random_state=1)\n",
        "# obiekt klasyfikatora – liczba drzew i inne hiperparametry do optymalizacji\n",
        "clf = RandomForestClassifier(n_estimators=10, random_state=10)\n",
        "clf.fit(X_train, y_train) # trenowanie klasyfikatora\n",
        "y_test_pred = clf.predict(X_test)\n",
        "# dokładność dla zbioru testowego\n",
        "print('\\nAccuracy (test):', accuracy_score(y_test, y_test_pred))"
      ],
      "metadata": {
        "id": "p9Ogj2S94s7a"
      },
      "execution_count": null,
      "outputs": []
    },
    {
      "cell_type": "code",
      "source": [
        "# Badanie istotności cech\n",
        "print('\\nFeature importances')\n",
        "importances = pd.Series(clf.feature_importances_, index=df.columns[1:6])\n",
        "print(importances)\n",
        "importances.nlargest(5).plot(kind='barh')\n",
        "plt.xlabel('Relative importance')\n",
        "plt.show()"
      ],
      "metadata": {
        "id": "agH0rDQ34tzE"
      },
      "execution_count": null,
      "outputs": []
    },
    {
      "cell_type": "code",
      "source": [
        "# Macierz pomyłek i raport z klasyfikacji\n",
        "print(confusion_matrix(y_test,y_test_pred))\n",
        "print(classification_report(y_test,y_test_pred))"
      ],
      "metadata": {
        "id": "bY5JIpXG4wcb"
      },
      "execution_count": null,
      "outputs": []
    },
    {
      "cell_type": "code",
      "source": [
        "import matplotlib.pyplot as plt\n",
        "\n",
        "from sklearn import datasets, svm\n",
        "from sklearn.inspection import DecisionBoundaryDisplay\n",
        "\n",
        "X = X[:, 1:3]\n",
        "\n",
        "# we create an instance of SVM and fit out data. We do not scale our\n",
        "# data since we want to plot the support vectors\n",
        "C = 1.0  # SVM regularization parameter\n",
        "models = (\n",
        "    svm.SVC(kernel=\"linear\", C=C),\n",
        "    svm.LinearSVC(C=C, max_iter=10000),\n",
        "    svm.SVC(kernel=\"rbf\", gamma=0.7, C=C),\n",
        "    svm.SVC(kernel=\"poly\", degree=3, gamma=\"auto\", C=C),\n",
        ")\n",
        "models = (clf.fit(X, y) for clf in models)\n",
        "\n",
        "# title for the plots\n",
        "titles = (\n",
        "    \"SVC with linear kernel\",\n",
        "    \"LinearSVC (linear kernel)\",\n",
        "    \"SVC with RBF kernel\",\n",
        "    \"SVC with polynomial (degree 3) kernel\",\n",
        ")\n",
        "\n",
        "# Set-up 2x2 grid for plotting.\n",
        "fig, sub = plt.subplots(2, 2)\n",
        "plt.subplots_adjust(wspace=0.4, hspace=0.4)\n",
        "\n",
        "X0, X1 = X[:, 0], X[:, 1]\n",
        "\n",
        "for clf, title, ax in zip(models, titles, sub.flatten()):\n",
        "    disp = DecisionBoundaryDisplay.from_estimator(\n",
        "        clf,\n",
        "        X,\n",
        "        response_method=\"predict\",\n",
        "        cmap=plt.cm.coolwarm,\n",
        "        alpha=0.8,\n",
        "        ax=ax,\n",
        "        xlabel=df.columns[2],\n",
        "        ylabel=df.columns[3],\n",
        "    )\n",
        "    ax.scatter(X0, X1, c=y, cmap=plt.cm.coolwarm, s=20, edgecolors=\"k\")\n",
        "    ax.set_xticks(())\n",
        "    ax.set_yticks(())\n",
        "    ax.set_title(title)\n",
        "\n",
        "plt.show()"
      ],
      "metadata": {
        "id": "VkxGNZQGgUxI"
      },
      "execution_count": null,
      "outputs": []
    }
  ]
}