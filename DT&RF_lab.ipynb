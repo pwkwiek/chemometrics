{
  "nbformat": 4,
  "nbformat_minor": 0,
  "metadata": {
    "colab": {
      "provenance": []
    },
    "kernelspec": {
      "name": "python3",
      "display_name": "Python 3"
    },
    "language_info": {
      "name": "python"
    }
  },
  "cells": [
    {
      "cell_type": "markdown",
      "source": [
        "### **przykład**\n",
        "\n",
        "- konwersja etykiety do wartości całkowitej: od 0 do liczba_klas-1 przy pomocy LabelEncoder\n",
        "- wczytać plik label_to_num.csv, zawierający jedną kolumnę ‘Frogs’, a w niej sześć różnych gatunków"
      ],
      "metadata": {
        "id": "Rw6GjlUaz6km"
      }
    },
    {
      "cell_type": "code",
      "execution_count": null,
      "metadata": {
        "id": "1nREh_hXzZ65"
      },
      "outputs": [],
      "source": [
        "import pandas as pd\n",
        "import numpy as np\n",
        "from sklearn.preprocessing import LabelEncoder"
      ]
    },
    {
      "cell_type": "code",
      "source": [
        "dataset = pd.read_csv('label_to_num.csv', header=0)\n",
        "print(dataset)"
      ],
      "metadata": {
        "id": "OK7VfmXKz2eE"
      },
      "execution_count": null,
      "outputs": []
    },
    {
      "cell_type": "code",
      "source": [
        "label_encoder = LabelEncoder()\n",
        "dataset['Frogs'] = label_encoder.fit_transform(dataset['Frogs'])\n",
        "print(dataset)"
      ],
      "metadata": {
        "id": "6a-IaOF0z523"
      },
      "execution_count": null,
      "outputs": []
    },
    {
      "cell_type": "markdown",
      "source": [
        "### **zadanie 1**\n",
        "\n",
        "klasyfikacja z wykorzystaniem algorytmu drzew decyzyjnych:\n",
        "- wykonanie zadania klasyfikacyjnego z zastosowaniem algorytmu drzew decyzyjnych\n",
        "- dwa sposoby wizualizacji utworzonego drzewa\n",
        "- interpretacja modelu dostępnego w formie graficznej (zaleta DT)\n",
        "- analiza wyniku walidacji, finalna ocena zdolności predykcyjnych modelu klasyfikacyjnego, ale także analiza utworzonego drzewa, które dostarcza wielu informacji o rozwiązywanym problemie\n",
        "- zapis drzewa w różnym formacie"
      ],
      "metadata": {
        "id": "gzpWz_Eq0IJG"
      }
    },
    {
      "cell_type": "code",
      "source": [
        "!pip install graphviz"
      ],
      "metadata": {
        "id": "RO_XxFa32ASJ"
      },
      "execution_count": null,
      "outputs": []
    },
    {
      "cell_type": "code",
      "source": [
        "!pip install -q dtreeviz"
      ],
      "metadata": {
        "id": "8OYMYDV91-H8"
      },
      "execution_count": null,
      "outputs": []
    },
    {
      "cell_type": "code",
      "source": [
        "import pandas as pd\n",
        "import numpy as np\n",
        "import matplotlib.pyplot as plt\n",
        "from sklearn import tree\n",
        "from sklearn.model_selection import cross_val_score\n",
        "from sklearn.preprocessing import LabelEncoder\n",
        "import graphviz\n",
        "import dtreeviz"
      ],
      "metadata": {
        "id": "af4xmY9s0lUB"
      },
      "execution_count": null,
      "outputs": []
    },
    {
      "cell_type": "code",
      "source": [
        "!wget -q https://storage.googleapis.com/download.tensorflow.org/data/palmer_penguins/penguins.csv -O /tmp/penguins.csv\n",
        "df = pd.read_csv(\"/tmp/penguins.csv\")\n",
        "df.head()"
      ],
      "metadata": {
        "id": "NCnDZ98M00Jm"
      },
      "execution_count": null,
      "outputs": []
    },
    {
      "cell_type": "code",
      "source": [
        "df = df.dropna() #usuwanie wartości NaN\n",
        "df.head()"
      ],
      "metadata": {
        "id": "Sc9csMwE04L-"
      },
      "execution_count": null,
      "outputs": []
    },
    {
      "cell_type": "code",
      "source": [
        "label_encoder = LabelEncoder()\n",
        "df['island'] = label_encoder.fit_transform(df['island'])\n",
        "df.head()"
      ],
      "metadata": {
        "id": "y8kVavu206N-"
      },
      "execution_count": null,
      "outputs": []
    },
    {
      "cell_type": "code",
      "source": [
        "X = df.values[:, 1:6]\n",
        "y = df.values[:, 0]\n",
        "label_encoder = LabelEncoder()\n",
        "y = label_encoder.fit_transform(y)"
      ],
      "metadata": {
        "id": "VRqZRsal09oy"
      },
      "execution_count": null,
      "outputs": []
    },
    {
      "cell_type": "code",
      "source": [
        "clf = tree.DecisionTreeClassifier()\n",
        "# definicja klasyfikatora\n",
        "scores = cross_val_score(clf, X, y, cv=5)\n",
        "# walidacja krzyżowa\n",
        "print('Accuracy (mean): ', scores.mean())"
      ],
      "metadata": {
        "id": "H8hkch-w0-kE"
      },
      "execution_count": null,
      "outputs": []
    },
    {
      "cell_type": "code",
      "source": [
        "clf = clf.fit(X, y) # uczenie klasyfikatora\n",
        "plt.figure(figsize=(10,7)) #odpowiednio dopasować: figsize, fontsize\n",
        "tree.plot_tree(clf, fontsize=7, filled=True,\n",
        "feature_names=df.columns[1:6], class_names=df[\"species\"].unique())\n",
        "plt.savefig('DTiris.png') #zapis do pliku\n",
        "plt.show()\n",
        "plt.show()"
      ],
      "metadata": {
        "id": "FlirYANw1C-C"
      },
      "execution_count": null,
      "outputs": []
    },
    {
      "cell_type": "code",
      "source": [
        "dot_data = tree.export_graphviz(clf, # wyświetlenie drzewa decyzyjnego (model dla wszystkich przypadków)\n",
        "feature_names=df.columns[1:6],\n",
        "class_names=df[\"species\"].unique(),\n",
        "filled=True, rounded=True)\n",
        "graph = graphviz.Source(dot_data)\n",
        "graph #alteranatywnie: display(graph)\n",
        "graph.format = \"pdf\"\n",
        "graph.render(\"DT\") #zapis do pliku"
      ],
      "metadata": {
        "id": "75dtL8EE1DuZ"
      },
      "execution_count": null,
      "outputs": []
    },
    {
      "cell_type": "code",
      "source": [
        "viz = dtreeviz.model(clf, X, y,\n",
        "target_name='spicies',\n",
        "feature_names=df.columns[1:6],\n",
        "class_names=df[\"species\"].unique())\n",
        "viz.view(scale=1.2, fontname=\"Liberation Mono\")"
      ],
      "metadata": {
        "id": "c9zleSJM1Hiq"
      },
      "execution_count": null,
      "outputs": []
    },
    {
      "cell_type": "markdown",
      "source": [
        "**sugestie dalszych obliczeń:**\n",
        "- zwrócić uwagę na wysokość drzewa oraz przeanalizować, które zmienne objaśniające zostały uwzględnione w modelu.\n",
        "- skomentować jakość modelu na podstawie wykonanej walidacji krzyżowej.\n",
        "- zwrócić uwagę na profesjonalną wizualizację drzew za pomocą bibliotek graphviz, dtreeviz.\n",
        "- przeanalizować zawartość poszczególnych węzłów i liści DT.\n",
        "- przetestować możliwość zapisu drzewa do pliku w innym formacie graficznym.\n",
        "- przeanalizować, co oznacza informacja ‘gini’ w poszczególnych węzłach i liściach DT\n",
        "- dodatkowo: sprawdzić wynik modelowania z pominięciem parametru ‘island’"
      ],
      "metadata": {
        "id": "xzRWvWqC3-uq"
      }
    },
    {
      "cell_type": "markdown",
      "source": [
        "### **zadanie 2**\n",
        "\n",
        "klasyfikacja z wykorzystaniem algorytmu drzew decyzyjnych oraz przycinanie drzewa"
      ],
      "metadata": {
        "id": "u4kbXawu2Tgq"
      }
    },
    {
      "cell_type": "code",
      "source": [
        "import pandas as pd\n",
        "import numpy as np\n",
        "from sklearn.tree import DecisionTreeClassifier\n",
        "from sklearn.model_selection import train_test_split\n",
        "from sklearn import metrics\n",
        "from sklearn import tree\n",
        "import graphviz\n",
        "import dtreeviz"
      ],
      "metadata": {
        "id": "o4MTHkbG1t8C"
      },
      "execution_count": null,
      "outputs": []
    },
    {
      "cell_type": "code",
      "source": [
        "pima = pd.read_csv('diabetes.csv')\n",
        "pima.head()"
      ],
      "metadata": {
        "id": "KXuMNdbR3oQE"
      },
      "execution_count": null,
      "outputs": []
    },
    {
      "cell_type": "code",
      "source": [
        "# Krótkie nazwy cech (wygodne przy wyświetlaniu drzewa)\n",
        "col_names = ['pregnant', 'glucose', 'bp', 'skin', 'insulin', 'bmi', 'pedigree', 'age', 'label']\n",
        "pima = pd.read_csv('diabetes.csv', header=0, names=col_names)\n",
        "print(pima.head())"
      ],
      "metadata": {
        "id": "qwtpx2ts3urH"
      },
      "execution_count": null,
      "outputs": []
    },
    {
      "cell_type": "code",
      "source": [
        "X = pima.values[:, 0:8]  # cechy\n",
        "y = pima.label          # etykieta\n",
        "X_train, X_test, y_train, y_test = train_test_split(X, y, test_size=0.3, random_state=1)"
      ],
      "metadata": {
        "id": "7lxIIaYe3ykT"
      },
      "execution_count": null,
      "outputs": []
    },
    {
      "cell_type": "code",
      "source": [
        "clf = DecisionTreeClassifier() # instancja klasyfikatora\n",
        "clf = clf.fit(X_train,y_train) # trenowanie klasyfikatora\n",
        "y_train_pred = clf.predict(X_train) # weryfikacja\n",
        "print(\"Accuracy (train):\",metrics.accuracy_score(y_train,y_train_pred))\n",
        "y_test_pred = clf.predict(X_test)\n",
        "print(\"Accuracy (test):\",metrics.accuracy_score(y_test, y_test_pred))"
      ],
      "metadata": {
        "id": "GZ3oXVO83zbK"
      },
      "execution_count": null,
      "outputs": []
    },
    {
      "cell_type": "code",
      "source": [
        "# wyświetlenie drzewa decyzyjnego (model dla wszystkich przypadków)\n",
        "dot_data = tree.export_graphviz(clf,\n",
        "                     feature_names=col_names[:-1],\n",
        "                     class_names=['0','1'],\n",
        "                     filled=True, rounded=True)\n",
        "graph = graphviz.Source(dot_data, format='png')\n",
        "graph.render('DTdiabetes') # do pliku DTdiabetes.png\n",
        "graph"
      ],
      "metadata": {
        "id": "amQr55dJ34q-"
      },
      "execution_count": null,
      "outputs": []
    },
    {
      "cell_type": "markdown",
      "source": [
        "**uwagi i analiza wyników:**\n",
        "- na tym etapie obliczeń uzyskujemy złożone DT. Bardzo duża liczba węzłów i głębokość drzewa sugerują, że model może być przeuczony. Ten fakt dyskwalifikuje wykorzystanie go do predykcji przynależności do klas nowych obiektów.\n",
        "- optymalizujemy hiperparametry algorytmu (m.in. przycinanie drzewa):\n",
        "clf = DecisionTreeClassifier(max_depth=?)"
      ],
      "metadata": {
        "id": "AXZL2KYS4Ivq"
      }
    },
    {
      "cell_type": "code",
      "source": [
        "clf = DecisionTreeClassifier(max_depth=5) # instancja klasyfikatora\n",
        "clf = clf.fit(X_train,y_train) # trenowanie klasyfikatora\n",
        "y_train_pred = clf.predict(X_train) # weryfikacja\n",
        "print(\"Accuracy (train):\",metrics.accuracy_score(y_train,y_train_pred))\n",
        "y_test_pred = clf.predict(X_test)\n",
        "print(\"Accuracy (test):\",metrics.accuracy_score(y_test, y_test_pred))"
      ],
      "metadata": {
        "id": "fMRoRYBXW0Mv"
      },
      "execution_count": null,
      "outputs": []
    },
    {
      "cell_type": "code",
      "source": [
        "# wyświetlenie drzewa decyzyjnego (model dla wszystkich przypadków)\n",
        "dot_data = tree.export_graphviz(clf,\n",
        "                     feature_names=col_names[:-1],\n",
        "                     class_names=['0','1'],\n",
        "                     filled=True, rounded=True)\n",
        "graph = graphviz.Source(dot_data, format='png')\n",
        "graph.render('DTdiabetes') # do pliku DTdiabetes.png\n",
        "graph"
      ],
      "metadata": {
        "id": "ZvIUD4NBW0Mw"
      },
      "execution_count": null,
      "outputs": []
    },
    {
      "cell_type": "markdown",
      "source": [
        "### **zadanie 3**\n",
        "\n",
        "lasy losowe z badaniem istotności cech"
      ],
      "metadata": {
        "id": "6yFh8V8P4PKl"
      }
    },
    {
      "cell_type": "code",
      "source": [
        "from sklearn.ensemble import RandomForestClassifier\n",
        "import pandas as pd\n",
        "import numpy as np\n",
        "import matplotlib.pyplot as plt\n",
        "from sklearn.model_selection import train_test_split\n",
        "from sklearn.metrics import classification_report, confusion_matrix, accuracy_score\n",
        "from sklearn.preprocessing import LabelEncoder"
      ],
      "metadata": {
        "id": "W9StFHOW4Wpd"
      },
      "execution_count": null,
      "outputs": []
    },
    {
      "cell_type": "code",
      "source": [
        "!wget -q https://storage.googleapis.com/download.tensorflow.org/data/palmer_penguins/penguins.csv -O /tmp/penguins.csv\n",
        "\n",
        "df = pd.read_csv(\"/tmp/penguins.csv\")\n",
        "df.head()"
      ],
      "metadata": {
        "id": "Ubkpbjxv4epS"
      },
      "execution_count": null,
      "outputs": []
    },
    {
      "cell_type": "code",
      "source": [
        "df = df.dropna() #usuwanie wartości NaN\n",
        "df.head()"
      ],
      "metadata": {
        "id": "adyDSY2m4iT3"
      },
      "execution_count": null,
      "outputs": []
    },
    {
      "cell_type": "code",
      "source": [
        "label_encoder = LabelEncoder()\n",
        "df['island'] = label_encoder.fit_transform(df['island'])\n",
        "df.head()"
      ],
      "metadata": {
        "id": "Kh6geXwo4nwr"
      },
      "execution_count": null,
      "outputs": []
    },
    {
      "cell_type": "code",
      "source": [
        "X = df.values[:, 1:6]\n",
        "y = df.values[:, 0]\n",
        "label_encoder = LabelEncoder()\n",
        "y = label_encoder.fit_transform(y)\n",
        "\n",
        "X_train, X_test, y_train, y_test = train_test_split(X, y, test_size=0.3, random_state=1)"
      ],
      "metadata": {
        "id": "90eYLJXC4qN2"
      },
      "execution_count": null,
      "outputs": []
    },
    {
      "cell_type": "code",
      "source": [
        "# obiekt klasyfikatora – liczba drzew i inne hiperparametry do optymalizacji\n",
        "clf = RandomForestClassifier(n_estimators=10, random_state=10)\n",
        "clf.fit(X_train, y_train) # trenowanie klasyfikatora\n",
        "y_test_pred = clf.predict(X_test)\n",
        "# dokładność dla zbioru testowego\n",
        "print('\\nAccuracy (test):', accuracy_score(y_test, y_test_pred))"
      ],
      "metadata": {
        "id": "p9Ogj2S94s7a"
      },
      "execution_count": null,
      "outputs": []
    },
    {
      "cell_type": "code",
      "source": [
        "# Badanie istotności cech\n",
        "print('\\nFeature importances')\n",
        "importances = pd.Series(clf.feature_importances_, index=df.columns[1:6])\n",
        "print(importances)\n",
        "importances.nlargest(5).plot(kind='barh')\n",
        "plt.xlabel('Relative importance')\n",
        "plt.show()"
      ],
      "metadata": {
        "id": "agH0rDQ34tzE"
      },
      "execution_count": null,
      "outputs": []
    },
    {
      "cell_type": "code",
      "source": [
        "# Macierz pomyłek i raport z klasyfikacji\n",
        "print(confusion_matrix(y_test,y_test_pred))\n",
        "print(classification_report(y_test,y_test_pred))"
      ],
      "metadata": {
        "id": "bY5JIpXG4wcb"
      },
      "execution_count": null,
      "outputs": []
    },
    {
      "cell_type": "markdown",
      "source": [
        "**sugestie:**\n",
        "- modyfikować liczbę drzew w celu uzyskania wyższej jakości modelu."
      ],
      "metadata": {
        "id": "CsWlhCCHZEru"
      }
    },
    {
      "cell_type": "code",
      "source": [
        "# obiekt klasyfikatora – liczba drzew i inne hiperparametry do optymalizacji\n",
        "clf = RandomForestClassifier(n_estimators=35, random_state=10)\n",
        "clf.fit(X_train, y_train) # trenowanie klasyfikatora\n",
        "y_test_pred = clf.predict(X_test)\n",
        "# dokładność dla zbioru testowego\n",
        "print('\\nAccuracy (test):', accuracy_score(y_test, y_test_pred))"
      ],
      "metadata": {
        "id": "EO75Ztg3Y-EG"
      },
      "execution_count": null,
      "outputs": []
    },
    {
      "cell_type": "code",
      "source": [
        "# Badanie istotności cech\n",
        "print('\\nFeature importances')\n",
        "importances = pd.Series(clf.feature_importances_, index=df.columns[1:6])\n",
        "print(importances)\n",
        "importances.nlargest(5).plot(kind='barh')\n",
        "plt.xlabel('Relative importance')\n",
        "plt.show()"
      ],
      "metadata": {
        "id": "SavXp4nVY-Ee"
      },
      "execution_count": null,
      "outputs": []
    },
    {
      "cell_type": "code",
      "source": [
        "# Macierz pomyłek i raport z klasyfikacji\n",
        "print(confusion_matrix(y_test,y_test_pred))\n",
        "print(classification_report(y_test,y_test_pred))"
      ],
      "metadata": {
        "id": "5aVZdZUmY-Ef"
      },
      "execution_count": null,
      "outputs": []
    },
    {
      "cell_type": "markdown",
      "source": [
        "**sugestie:**\n",
        "- zdefiniować RF na podstawie 2-3 najbardziej istotnych cech. Jaki to ma wpływ na zdolność predykcyjną modelu?"
      ],
      "metadata": {
        "id": "ysMG5bBd43b4"
      }
    },
    {
      "cell_type": "code",
      "source": [
        "X = df.loc[:, ['bill_length_mm','flipper_length_mm','island']]\n",
        "\n",
        "X = df.drop(['bill_depth_mm', 'body_mass_g', 'species', 'sex', 'year'], axis=1)\n",
        "\n",
        "X= df.values[:,(1,2,4)]\n",
        "\n",
        "y = df.values[:, 0]\n",
        "label_encoder = LabelEncoder()\n",
        "y = label_encoder.fit_transform(y)\n",
        "\n",
        "X_train, X_test, y_train, y_test = train_test_split(X, y, test_size=0.3, random_state=1)"
      ],
      "metadata": {
        "id": "qZ_Wj2SKXbLG"
      },
      "execution_count": null,
      "outputs": []
    },
    {
      "cell_type": "code",
      "source": [
        "# obiekt klasyfikatora – liczba drzew i inne hiperparametry do optymalizacji\n",
        "clf = RandomForestClassifier(n_estimators=3)\n",
        "clf.fit(X_train, y_train) # trenowanie klasyfikatora\n",
        "y_test_pred = clf.predict(X_test)\n",
        "# dokładność dla zbioru testowego\n",
        "print('\\nAccuracy (test):', accuracy_score(y_test, y_test_pred))"
      ],
      "metadata": {
        "id": "45Xw1ottXbLQ"
      },
      "execution_count": null,
      "outputs": []
    },
    {
      "cell_type": "code",
      "source": [
        "# Macierz pomyłek i raport z klasyfikacji\n",
        "print(confusion_matrix(y_test,y_test_pred))\n",
        "print(classification_report(y_test,y_test_pred))"
      ],
      "metadata": {
        "id": "XHD3IPXuXhGC"
      },
      "execution_count": null,
      "outputs": []
    },
    {
      "cell_type": "markdown",
      "source": [
        "### **zadanie 4:**\n",
        "\n",
        "lasy losowe z oceną modelu za pomocą AUC:\n",
        "- w tym przykładzie optymalizujemy hiperparametry klasyfikatora\n",
        "- dodatkowo ocena jakości jest realizowana za pomocą AUC uzyskanych podczas walidacji krzyżowej\n"
      ],
      "metadata": {
        "id": "DvK8Hq8E46LP"
      }
    },
    {
      "cell_type": "code",
      "source": [
        "import pandas as pd\n",
        "from sklearn.model_selection import train_test_split\n",
        "from sklearn import metrics\n",
        "from sklearn.ensemble import RandomForestClassifier\n",
        "import matplotlib.pyplot as plt\n",
        "from sklearn.model_selection import cross_val_score"
      ],
      "metadata": {
        "id": "AH_k5Kh145RZ"
      },
      "execution_count": null,
      "outputs": []
    },
    {
      "cell_type": "code",
      "source": [
        "pima = pd.read_csv('diabetes.csv')\n",
        "print(pima.head())\n",
        "X = pima.values[:, 0:8]\n",
        "y = pima.values[:, 8]\n",
        "X_train, X_test, y_train, y_test = train_test_split(X, y, test_size=0.3, random_state=1)"
      ],
      "metadata": {
        "id": "qLTJ6vkf5Fbp"
      },
      "execution_count": null,
      "outputs": []
    },
    {
      "cell_type": "code",
      "source": [
        "clf = RandomForestClassifier(n_estimators=10, random_state=10)\n",
        "clf = clf.fit(X_train,y_train) # trenowanie\n",
        "y_test_pred = clf.predict(X_test) # predykcja dla zbioru testowego\n",
        "print(\"Accuracy (test):\",metrics.accuracy_score(y_test, y_test_pred))"
      ],
      "metadata": {
        "id": "WkJR6jbt5Jg2"
      },
      "execution_count": null,
      "outputs": []
    },
    {
      "cell_type": "code",
      "source": [
        "# CV (cv=10), analiza AUC\n",
        "score = cross_val_score(clf, X, y, cv=10, scoring='roc_auc')\n",
        "print(\"Mean AUC score: \",score.mean())\n",
        "print(\"Std AUC score: \",score.std())"
      ],
      "metadata": {
        "id": "-cyR_0kX5KSJ"
      },
      "execution_count": null,
      "outputs": []
    },
    {
      "cell_type": "code",
      "source": [
        "importances = pd.Series(clf.feature_importances_, index=pima.keys()[0:8])\n",
        "print(importances)\n",
        "importances.nlargest().plot(kind='barh')\n",
        "plt.xlabel('Relative Importance')\n",
        "plt.show()"
      ],
      "metadata": {
        "id": "EQvEJ2Ll5OAo"
      },
      "execution_count": null,
      "outputs": []
    },
    {
      "cell_type": "markdown",
      "source": [
        "**sugestie dalszych obliczeń:**\n",
        "- ponieważ średnia wartość AUC wynosi znacznie mniej niż 1, podjąć działania mające na celu poprawę zdolności predykcyjnych.\n",
        "- modyfikować hiperparametry klasyfikatora.\n",
        "- wykorzystać cechy o najwyższym wskaźniku istotności w modelowaniu."
      ],
      "metadata": {
        "id": "NelkvCtW5SGJ"
      }
    },
    {
      "cell_type": "code",
      "source": [
        "clf = RandomForestClassifier(n_estimators=10)\n",
        "clf = clf.fit(X_train,y_train) # trenowanie\n",
        "y_test_pred = clf.predict(X_test) # predykcja dla zbioru testowego\n",
        "print(\"Accuracy (test):\",metrics.accuracy_score(y_test, y_test_pred))"
      ],
      "metadata": {
        "id": "Cf2z0faJaHgH"
      },
      "execution_count": null,
      "outputs": []
    },
    {
      "cell_type": "code",
      "source": [
        "# CV (cv=10), analiza AUC\n",
        "score = cross_val_score(clf, X, y, cv=6, scoring='roc_auc')\n",
        "print(\"Mean AUC score: \",score.mean())\n",
        "print(\"Std AUC score: \",score.std())"
      ],
      "metadata": {
        "id": "VMXMCTw1aHgJ"
      },
      "execution_count": null,
      "outputs": []
    },
    {
      "cell_type": "code",
      "source": [
        "importances = pd.Series(clf.feature_importances_, index=pima.keys()[0:8])\n",
        "importances.nlargest().plot(kind='barh')\n",
        "plt.xlabel('Relative Importance')\n",
        "plt.show()"
      ],
      "metadata": {
        "id": "WI4-UzjWaHgK"
      },
      "execution_count": null,
      "outputs": []
    },
    {
      "cell_type": "code",
      "source": [],
      "metadata": {
        "id": "Hf3jyjf6b6Cw"
      },
      "execution_count": null,
      "outputs": []
    }
  ]
}